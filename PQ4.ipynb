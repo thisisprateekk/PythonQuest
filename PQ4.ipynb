{
 "cells": [
  {
   "cell_type": "code",
   "execution_count": 39,
   "id": "4e93aa60-eb81-4194-8263-9dff15ae13f2",
   "metadata": {},
   "outputs": [
    {
     "data": {
      "text/plain": [
       "'Write a Python function that takes an input string and returns the transformed string according to the example.\\n\\nExample:\\nInput: \"apple\"\\nOutput: \"boqkf\"\\n'"
      ]
     },
     "execution_count": 39,
     "metadata": {},
     "output_type": "execute_result"
    }
   ],
   "source": [
    "#python quest problem 4\n",
    "\"\"\"Write a Python function that takes an input string and returns the transformed string according to the example.\n",
    "\n",
    "Example:\n",
    "Input: \"apple\"\n",
    "Output: \"boqkf\"\n",
    "\"\"\""
   ]
  },
  {
   "cell_type": "code",
   "execution_count": 2,
   "id": "f2e91441-0245-49c7-877c-2faa62b097ba",
   "metadata": {},
   "outputs": [
    {
     "name": "stdout",
     "output_type": "stream",
     "text": [
      "Input: apple\n",
      "Output: boqkf\n"
     ]
    },
    {
     "name": "stdin",
     "output_type": "stream",
     "text": [
      "your input : repository\n"
     ]
    },
    {
     "name": "stdout",
     "output_type": "stream",
     "text": [
      "Input: repository\n",
      "output : sdqnthunsx\n"
     ]
    }
   ],
   "source": [
    "def transform_string(input_str):\n",
    "    output_str = \"\"\n",
    "    length = len(input_str)\n",
    "    for char in range(length):\n",
    "        if char>-1:\n",
    "            if char % 2 == 0:  # check for even numbers \n",
    "                output_str += chr(ord(input_str[char]) + 1)\n",
    "            else:              # check for odd numbers \n",
    "                output_str += chr(ord(input_str[char]) - 1)\n",
    "        \n",
    "    return output_str\n",
    "\n",
    "# Example usage\n",
    "input_str = \"apple\"\n",
    "output_str = transform_string(input_str)\n",
    "print(f\"Input: {input_str}\")\n",
    "print(f\"Output: {output_str}\")\n",
    "\n",
    "input2 = input(\"your input :\")\n",
    "output2 = transform_string(input2)\n",
    "print(f\"Input: {input2}\")\n",
    "print(f\"output : {output2}\")"
   ]
  },
  {
   "cell_type": "code",
   "execution_count": null,
   "id": "65515ed9-dedc-43b1-9a9d-27f878cef0d8",
   "metadata": {},
   "outputs": [],
   "source": []
  },
  {
   "cell_type": "code",
   "execution_count": null,
   "id": "b02184bb-48cb-447a-aedf-c42c47faa290",
   "metadata": {},
   "outputs": [],
   "source": []
  },
  {
   "cell_type": "code",
   "execution_count": null,
   "id": "81025650-01c3-4e9b-8b22-cdf9c6bd504c",
   "metadata": {},
   "outputs": [],
   "source": []
  }
 ],
 "metadata": {
  "kernelspec": {
   "display_name": "Python 3 (ipykernel)",
   "language": "python",
   "name": "python3"
  },
  "language_info": {
   "codemirror_mode": {
    "name": "ipython",
    "version": 3
   },
   "file_extension": ".py",
   "mimetype": "text/x-python",
   "name": "python",
   "nbconvert_exporter": "python",
   "pygments_lexer": "ipython3",
   "version": "3.12.1"
  }
 },
 "nbformat": 4,
 "nbformat_minor": 5
}
