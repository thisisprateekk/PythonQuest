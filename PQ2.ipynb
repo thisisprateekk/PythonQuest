{
 "cells": [
  {
   "cell_type": "code",
   "execution_count": 4,
   "id": "d8afe670-1f8e-47db-acb4-9fb9b3347272",
   "metadata": {},
   "outputs": [
    {
     "data": {
      "text/plain": [
       "'\\nwrite a python code for following output for given input\\ninput : a1b10\\noutput : abbbbbbbbbb\\n\\ninput : b3c6d5\\noutput : bbbccccccddddd\\n'"
      ]
     },
     "execution_count": 4,
     "metadata": {},
     "output_type": "execute_result"
    }
   ],
   "source": [
    "#python problem -  2 \n",
    "\"\"\"\n",
    "write a python code for following output for given input\n",
    "input : a1b10\n",
    "output : abbbbbbbbbb\n",
    "\n",
    "input : b3c6d5\n",
    "output : bbbccccccddddd\n",
    "\"\"\""
   ]
  },
  {
   "cell_type": "code",
   "execution_count": 14,
   "id": "06118766-e566-42c1-99ea-da3169400b3b",
   "metadata": {},
   "outputs": [
    {
     "name": "stdout",
     "output_type": "stream",
     "text": [
      "Input: a1b10\n",
      "Output: abbbbbbbbbb\n",
      "Input: b3c6d5\n",
      "Output: bbbccccccddddd\n"
     ]
    },
    {
     "name": "stdin",
     "output_type": "stream",
     "text": [
      "enter the input : 5\n"
     ]
    }
   ],
   "source": [
    "def expand_string(s):\n",
    "    result = \"\"\n",
    "    i = 0\n",
    "    while i < len(s):\n",
    "        char = s[i]\n",
    "        i += 1\n",
    "        num = 0\n",
    "        while i < len(s) and s[i].isdigit(): #identify the digits and checks whether there is more than one digit \n",
    "            num = num * 10 + int(s[i])       #if there is more than one digit the previous digit is multiplied with ten and the current digit is added to it \n",
    "            i += 1\n",
    "        result += char * num\n",
    "    return result\n",
    "\n",
    "# Example usage\n",
    "input1 = \"a1b10\"\n",
    "output1 = expand_string(input1)\n",
    "print(f\"Input: {input1}\\nOutput: {output1}\")\n",
    "\n",
    "input2 = \"b3c6d5\"\n",
    "output2 = expand_string(input2)\n",
    "print(f\"Input: {input2}\\nOutput: {output2}\")\n",
    "\n",
    "input3 = input(\"enter the input :\")\n",
    "output3 = expand_string(input3)\n",
    "print(f\"Input: {input3}\\nOutput: {output3}\")\n"
   ]
  },
  {
   "cell_type": "code",
   "execution_count": null,
   "id": "8bd48cf0-d7ba-4bd9-b790-191b6a056ff9",
   "metadata": {},
   "outputs": [],
   "source": []
  },
  {
   "cell_type": "code",
   "execution_count": null,
   "id": "5c1f8a61-d609-421c-b4e0-a10152e746c4",
   "metadata": {},
   "outputs": [],
   "source": []
  }
 ],
 "metadata": {
  "kernelspec": {
   "display_name": "Python 3 (ipykernel)",
   "language": "python",
   "name": "python3"
  },
  "language_info": {
   "codemirror_mode": {
    "name": "ipython",
    "version": 3
   },
   "file_extension": ".py",
   "mimetype": "text/x-python",
   "name": "python",
   "nbconvert_exporter": "python",
   "pygments_lexer": "ipython3",
   "version": "3.12.1"
  }
 },
 "nbformat": 4,
 "nbformat_minor": 5
}
