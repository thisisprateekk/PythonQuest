{
 "cells": [
  {
   "cell_type": "code",
   "execution_count": 26,
   "id": "b3fcb101-dde8-4e5f-b81a-9ec6de271a4b",
   "metadata": {},
   "outputs": [
    {
     "data": {
      "text/plain": [
       "' for example :\\nN = 438237764\\nOutput = Four Hundred Thirty Eight Million Two Hundred Thirty Seven Thousand Seven Hundred Sixty Four '"
      ]
     },
     "execution_count": 26,
     "metadata": {},
     "output_type": "execute_result"
    }
   ],
   "source": [
    "# Problem - 1 given an integer N , the task is to convert the given number into words \n",
    "\"\"\" for example :\n",
    "N = 438237764\n",
    "Output = Four Hundred Thirty Eight Million Two Hundred Thirty Seven Thousand Seven Hundred Sixty Four \"\"\""
   ]
  },
  {
   "cell_type": "code",
   "execution_count": 31,
   "id": "b8fc5b38-c9cc-4b6c-b332-b2ca977fdb6c",
   "metadata": {},
   "outputs": [
    {
     "name": "stdout",
     "output_type": "stream",
     "text": [
      "the conversion of 438237764 to words is : \n",
      "Four Hundred Thirty Eight Million Two Hundred Thirty Seven Thousand Seven Hundred Sixty Four\n"
     ]
    },
    {
     "name": "stdin",
     "output_type": "stream",
     "text": [
      "you can try this for any number , enter a number : 879846554\n"
     ]
    },
    {
     "name": "stdout",
     "output_type": "stream",
     "text": [
      "Eight Hundred Seventy Nine Million Eight Hundred Forty Six Thousand Five Hundred Fifty Four\n"
     ]
    }
   ],
   "source": [
    "#solution for problem 1 \n",
    "\n",
    "\"\"\" approach - \n",
    "unit = [\"\", \"One\", \"Two\", \"Three\", \"Four\", \"Five\", \"Six\", \"Seven\", \"Eight\", \"Nine\"]\n",
    "a = int(input (\"enter a number : \" ))\n",
    "if a<10 and a>=0:\n",
    "    print(unit[a]) \"\"\"\n",
    "\n",
    "\n",
    "def number_to_words(n):\n",
    "    if n == 0:\n",
    "        return \"Zero\"\n",
    "\n",
    "    units = [\"\", \"One\", \"Two\", \"Three\", \"Four\", \"Five\", \"Six\", \"Seven\", \"Eight\", \"Nine\"]\n",
    "    teens = [\"Ten\", \"Eleven\", \"Twelve\", \"Thirteen\", \"Fourteen\", \"Fifteen\", \"Sixteen\", \"Seventeen\", \"Eighteen\", \"Nineteen\"]\n",
    "    tens = [\"\", \"\", \"Twenty\", \"Thirty\", \"Forty\", \"Fifty\", \"Sixty\", \"Seventy\", \"Eighty\", \"Ninety\"]\n",
    "    thousands = [\"\", \"Thousand\", \"Million\", \"Billion\"]\n",
    "\n",
    "    def word(num):\n",
    "        if num == 0:\n",
    "            return \"\"\n",
    "        elif num < 10:\n",
    "            return units[num]\n",
    "        elif num < 20:\n",
    "            return teens[num - 10]\n",
    "        elif num < 100:\n",
    "            return tens[num // 10] + (\"\" if num % 10 == 0 else \" \" + units[num % 10])\n",
    "        else:\n",
    "            return units[num // 100] + \" Hundred\" + (\"\" if num % 100 == 0 else \" \" + word(num % 100))\n",
    "\n",
    "    def convert(num):\n",
    "        if num == 0:\n",
    "            return \"\"\n",
    "        elif num < 1000:\n",
    "            return word(num)\n",
    "        else:\n",
    "            for i in range(len(thousands)):\n",
    "                if num < 1000 ** (i + 1):\n",
    "                    return convert(num // 1000 ** i) + \" \" + thousands[i] + (\"\" if num % 1000 ** i == 0 else \" \" + word(num % 1000 ** i))\n",
    "\n",
    "    def convert_large(num):\n",
    "        result = \"\"\n",
    "        for i in range(len(thousands) - 1, -1, -1):\n",
    "            if num >= 1000 ** i:\n",
    "                result += convert(num // (1000 ** i)) + \" \" + thousands[i] + \" \"\n",
    "                num %= 1000 ** i\n",
    "        return result.strip()\n",
    "\n",
    "    return convert_large(n).strip()\n",
    "\n",
    "# Example usage\n",
    "N = 438237764\n",
    "print(f\"the conversion of {N} to words is : \")\n",
    "print(number_to_words(N))\n",
    "\n",
    "N1 = int(input(\"you can try this for any number , enter a number :\"))\n",
    "print(number_to_words(N1))\n",
    "\n",
    "\n",
    "    "
   ]
  },
  {
   "cell_type": "code",
   "execution_count": null,
   "id": "0ff6477f-8c9a-4159-8065-556803df265e",
   "metadata": {},
   "outputs": [],
   "source": []
  },
  {
   "cell_type": "code",
   "execution_count": null,
   "id": "d3fcbdcd-d4b7-4480-8719-91611c69d18a",
   "metadata": {},
   "outputs": [],
   "source": []
  },
  {
   "cell_type": "code",
   "execution_count": null,
   "id": "e0e24855-10cc-4cf4-9f9d-7636f4082852",
   "metadata": {},
   "outputs": [],
   "source": []
  },
  {
   "cell_type": "code",
   "execution_count": null,
   "id": "d38cfdec-1936-417d-89c8-d462d558f9aa",
   "metadata": {},
   "outputs": [],
   "source": []
  },
  {
   "cell_type": "code",
   "execution_count": null,
   "id": "e5e0740e-1d49-4b1a-abdf-49e1a5c1ff64",
   "metadata": {},
   "outputs": [],
   "source": []
  }
 ],
 "metadata": {
  "kernelspec": {
   "display_name": "Python 3 (ipykernel)",
   "language": "python",
   "name": "python3"
  },
  "language_info": {
   "codemirror_mode": {
    "name": "ipython",
    "version": 3
   },
   "file_extension": ".py",
   "mimetype": "text/x-python",
   "name": "python",
   "nbconvert_exporter": "python",
   "pygments_lexer": "ipython3",
   "version": "3.12.1"
  }
 },
 "nbformat": 4,
 "nbformat_minor": 5
}
