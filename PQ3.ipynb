{
 "cells": [
  {
   "cell_type": "code",
   "execution_count": 2,
   "id": "27bb3b1f-1f12-40d7-bac9-11cf992c8c3f",
   "metadata": {},
   "outputs": [
    {
     "data": {
      "text/plain": [
       "'Given a 2D array (matrix) representing an image, where each element in the matrix corresponds to a pixel value, \\nwrite a program to rotate the matrix by 90 degrees clockwise. The matrix is represented as follows:\\n\\n[\\n [1, 2, 3],\\n [4, 5, 6],\\n [7, 8, 9]\\n] '"
      ]
     },
     "execution_count": 2,
     "metadata": {},
     "output_type": "execute_result"
    }
   ],
   "source": [
    "#python problem -  3 \n",
    "\"\"\"Given a 2D array (matrix) representing an image, where each element in the matrix corresponds to a pixel value, \n",
    "write a program to rotate the matrix by 90 degrees clockwise. The matrix is represented as follows:\n",
    "\n",
    "[\n",
    " [1, 2, 3],\n",
    " [4, 5, 6],\n",
    " [7, 8, 9]\n",
    "] \"\"\""
   ]
  },
  {
   "cell_type": "code",
   "execution_count": 7,
   "id": "f0404018-2731-4deb-bcbb-753b18286e6e",
   "metadata": {},
   "outputs": [
    {
     "name": "stdout",
     "output_type": "stream",
     "text": [
      "[7, 4, 1]\n",
      "[8, 5, 2]\n",
      "[9, 6, 3]\n"
     ]
    }
   ],
   "source": [
    "# First find the transpose of the matrix and then reverse the elements of each row  \n",
    "def rotate_image(matrix):\n",
    "    n = len(matrix)\n",
    "    \n",
    "    # Transpose the matrix\n",
    "    for i in range(n):\n",
    "        for j in range(i, n):\n",
    "            matrix[i][j], matrix[j][i] = matrix[j][i], matrix[i][j]\n",
    "    \n",
    "    # Reverse each row\n",
    "    for i in range(n):\n",
    "        matrix[i].reverse()\n",
    "    \n",
    "    return matrix\n",
    "\n",
    "# Given matrix\n",
    "matrix = [\n",
    "    [1, 2, 3],\n",
    "    [4, 5, 6],\n",
    "    [7, 8, 9]\n",
    "]\n",
    "\n",
    "\n",
    "# Rotate the matrix\n",
    "rotated_matrix = rotate_image(matrix)\n",
    "\n",
    "# Print the rotated matrix\n",
    "for row in rotated_matrix:\n",
    "    print(row)\n"
   ]
  },
  {
   "cell_type": "code",
   "execution_count": null,
   "id": "0e653fac-2fe9-426d-a50c-7969dccc3b1e",
   "metadata": {},
   "outputs": [],
   "source": []
  }
 ],
 "metadata": {
  "kernelspec": {
   "display_name": "Python 3 (ipykernel)",
   "language": "python",
   "name": "python3"
  },
  "language_info": {
   "codemirror_mode": {
    "name": "ipython",
    "version": 3
   },
   "file_extension": ".py",
   "mimetype": "text/x-python",
   "name": "python",
   "nbconvert_exporter": "python",
   "pygments_lexer": "ipython3",
   "version": "3.12.1"
  }
 },
 "nbformat": 4,
 "nbformat_minor": 5
}
